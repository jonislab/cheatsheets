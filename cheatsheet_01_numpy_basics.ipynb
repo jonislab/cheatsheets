{
  "nbformat": 4,
  "nbformat_minor": 0,
  "metadata": {
    "colab": {
      "provenance": [],
      "toc_visible": true,
      "authorship_tag": "ABX9TyOwGHsaNimzoFXKwk9pjHFP",
      "include_colab_link": true
    },
    "kernelspec": {
      "name": "python3",
      "display_name": "Python 3"
    },
    "language_info": {
      "name": "python"
    }
  },
  "cells": [
    {
      "cell_type": "markdown",
      "metadata": {
        "id": "view-in-github",
        "colab_type": "text"
      },
      "source": [
        "<a href=\"https://colab.research.google.com/github/jonislab/cheatsheets/blob/main/cheatsheet_01_numpy_basics.ipynb\" target=\"_parent\"><img src=\"https://colab.research.google.com/assets/colab-badge.svg\" alt=\"Open In Colab\"/></a>"
      ]
    },
    {
      "cell_type": "markdown",
      "source": [
        "# JONI's LAB\n",
        "# CheatSheet - NumPy Basic\n",
        "\n",
        "*   Creating Arrays\n",
        "*   Accessing and Slicing\n",
        "*   Shape\n",
        "*   Reshape\n",
        "*   Iterating\n",
        "*   Sort\n",
        "*   Searching\n",
        "*   Mathematics\n"
      ],
      "metadata": {
        "id": "bVce4Y7cTVP0"
      }
    },
    {
      "cell_type": "markdown",
      "source": [
        "# Creating Arrays"
      ],
      "metadata": {
        "id": "cGZH6SwBT35Q"
      }
    },
    {
      "cell_type": "markdown",
      "source": [],
      "metadata": {
        "id": "5XXBr0gvTc8F"
      }
    },
    {
      "cell_type": "code",
      "source": [
        "import numpy as np\n",
        "import matplotlib.pyplot as plt\n",
        "import numpy as np\n",
        "\n",
        "arr1=np.array([[10,21,22,23,24,25,26,27,28,29],\n",
        " [11,0,0,0,0,0,0,0,0,0],\n",
        " [12,0,1,1,1,1,1,1,0,0],\n",
        " [13,0,1,0,0,0,0,1,0,0],\n",
        " [14,0,1,0,0,0,0,1,0,0],\n",
        " [15,0,1,0,0,0,0,1,0,0],\n",
        " [16,0,1,0,0,0,0,1,0,0],\n",
        " [17,0,1,1,1,1,1,1,0,0],\n",
        " [18,0,0,0,0,0,0,0,0,0],\n",
        " [19,0,0,0,0,0,0,0,0,0]])\n",
        "print(arr1)\n",
        "\n",
        "arr2=np.array([\n",
        " [0,0,0,0,0,0,0,0],\n",
        " [0,1,1,1,1,1,1,0],\n",
        " [0,1,0,0,0,0,1,0],\n",
        " [0,1,0,0,0,0,1,0],\n",
        " [0,1,0,0,0,0,1,0],\n",
        " [0,1,0,0,0,0,1,0],\n",
        " [0,1,1,1,1,1,1,0],\n",
        " [0,0,0,0,0,0,0,0]])\n",
        "print(arr2)"
      ],
      "metadata": {
        "id": "YnRL-J0WTcp7"
      },
      "execution_count": null,
      "outputs": []
    },
    {
      "cell_type": "code",
      "source": [
        "fig, axs = plt.subplots(1, figsize=(10, 5))\n",
        "axs.imshow(arr1)\n",
        "axs.set_title('arrays')\n",
        "\n",
        "plt.show()"
      ],
      "metadata": {
        "colab": {
          "base_uri": "https://localhost:8080/",
          "height": 468
        },
        "id": "H5H1VTvhVQi8",
        "outputId": "431ee6ae-53a4-4461-91e6-7529179c2b9a"
      },
      "execution_count": 3,
      "outputs": [
        {
          "output_type": "display_data",
          "data": {
            "text/plain": [
              "<Figure size 1000x500 with 1 Axes>"
            ],
            "image/png": "[encoded data removed]"
          },
          "metadata": {}
        }
      ]
    },
    {
      "cell_type": "markdown",
      "source": [
        "# Accessing and Slicing\n",
        "\n",
        "We pass slice instead of index like this: **[start:end]**\\\n",
        "We can also define the step, like this: **[start:end:step]**.\\\n",
        "Negative slicing means start from the right side of the array"
      ],
      "metadata": {
        "id": "n6GiM22kWRhm"
      }
    },
    {
      "cell_type": "code",
      "execution_count": 8,
      "metadata": {
        "colab": {
          "base_uri": "https://localhost:8080/"
        },
        "id": "eTGaT9RbS-W1",
        "outputId": "b4b1ed78-0230-4ef9-e2c6-9e841d53cc83"
      },
      "outputs": [
        {
          "output_type": "stream",
          "name": "stdout",
          "text": [
            "[10 21 22 23 24 25 26 27 28 29]\n"
          ]
        }
      ],
      "source": [
        "# get the first index (row) in arr1\n",
        "print(arr1[0])"
      ]
    },
    {
      "cell_type": "code",
      "source": [],
      "metadata": {
        "id": "jjSej9AQabUs"
      },
      "execution_count": null,
      "outputs": []
    },
    {
      "cell_type": "code",
      "source": [
        "# get the first 3 rows of arrays\n",
        "print(arr1[0:3])\n"
      ],
      "metadata": {
        "colab": {
          "base_uri": "https://localhost:8080/"
        },
        "id": "875T52SLWQAT",
        "outputId": "29be43c6-ba54-4e88-bd82-e3ae0a4e1215"
      },
      "execution_count": 13,
      "outputs": [
        {
          "output_type": "stream",
          "name": "stdout",
          "text": [
            "[[10 21 22 23 24 25 26 27 28 29]\n",
            " [11  0  0  0  0  0  0  0  0  0]\n",
            " [12  0  1  1  1  1  1  1  0  0]]\n"
          ]
        }
      ]
    },
    {
      "cell_type": "code",
      "source": [
        "# get the first 3 rows of arrays up to 4 columns\n",
        "print(arr1[0:3,0:5])"
      ],
      "metadata": {
        "colab": {
          "base_uri": "https://localhost:8080/"
        },
        "id": "Ut80WKiJYBrF",
        "outputId": "c5ec328e-7a99-4799-f7ec-6d996334bd6f"
      },
      "execution_count": 14,
      "outputs": [
        {
          "output_type": "stream",
          "name": "stdout",
          "text": [
            "[[10 21 22 23 24]\n",
            " [11  0  0  0  0]\n",
            " [12  0  1  1  1]]\n"
          ]
        }
      ]
    },
    {
      "cell_type": "code",
      "source": [
        "# get all rows up to 4 columns\n",
        "# (:,) means all rows\n",
        "print(arr1[:,0:5])"
      ],
      "metadata": {
        "colab": {
          "base_uri": "https://localhost:8080/"
        },
        "id": "XBP2LtKjW6x8",
        "outputId": "f4e57270-4408-45a9-e375-2eab939bf7da"
      },
      "execution_count": 15,
      "outputs": [
        {
          "output_type": "stream",
          "name": "stdout",
          "text": [
            "[[10 21 22 23 24]\n",
            " [11  0  0  0  0]\n",
            " [12  0  1  1  1]\n",
            " [13  0  1  0  0]\n",
            " [14  0  1  0  0]\n",
            " [15  0  1  0  0]\n",
            " [16  0  1  0  0]\n",
            " [17  0  1  1  1]\n",
            " [18  0  0  0  0]\n",
            " [19  0  0  0  0]]\n"
          ]
        }
      ]
    },
    {
      "cell_type": "code",
      "source": [
        "# get all rows and last 5 columns\n",
        "# (:,) means all rows\n",
        "# -5: means start from the end count -5 then up to the end\n",
        "print(arr1[:,-5:])"
      ],
      "metadata": {
        "colab": {
          "base_uri": "https://localhost:8080/"
        },
        "id": "-UnXJwAQZA3L",
        "outputId": "f8c2f7b6-6603-468f-aaea-1a7c4b6e1fad"
      },
      "execution_count": 18,
      "outputs": [
        {
          "output_type": "stream",
          "name": "stdout",
          "text": [
            "[[25 26 27 28 29]\n",
            " [ 0  0  0  0  0]\n",
            " [ 1  1  1  0  0]\n",
            " [ 0  0  1  0  0]\n",
            " [ 0  0  1  0  0]\n",
            " [ 0  0  1  0  0]\n",
            " [ 0  0  1  0  0]\n",
            " [ 1  1  1  0  0]\n",
            " [ 0  0  0  0  0]\n",
            " [ 0  0  0  0  0]]\n"
          ]
        }
      ]
    },
    {
      "cell_type": "code",
      "source": [
        "# get all rows arrays last 5 columns\n",
        "# (:,) means all rows\n",
        "# -5: means start from the end count -5 then up to -2\n",
        "print(arr1[:,-5:-2])"
      ],
      "metadata": {
        "colab": {
          "base_uri": "https://localhost:8080/"
        },
        "id": "tSIDFRksbBrD",
        "outputId": "3aa09c30-7bdc-426d-b52e-6293badfb211"
      },
      "execution_count": 20,
      "outputs": [
        {
          "output_type": "stream",
          "name": "stdout",
          "text": [
            "[[25 26 27]\n",
            " [ 0  0  0]\n",
            " [ 1  1  1]\n",
            " [ 0  0  1]\n",
            " [ 0  0  1]\n",
            " [ 0  0  1]\n",
            " [ 0  0  1]\n",
            " [ 1  1  1]\n",
            " [ 0  0  0]\n",
            " [ 0  0  0]]\n"
          ]
        }
      ]
    },
    {
      "cell_type": "markdown",
      "source": [
        "# Shape"
      ],
      "metadata": {
        "id": "UEzwdhLMbcMJ"
      }
    },
    {
      "cell_type": "code",
      "source": [
        "# get the shape\n",
        "print(arr1.shape)\n",
        "arr2 = np.array([[1, 2, 3, 4], [5, 6, 7, 8]])\n",
        "x,y = arr2.shape\n",
        "print(f\"rows={x}, columns={y}\")"
      ],
      "metadata": {
        "colab": {
          "base_uri": "https://localhost:8080/"
        },
        "id": "fn2AtMh9bfDb",
        "outputId": "47d57a06-c6fb-4b03-f85a-2cc5ab86978e"
      },
      "execution_count": 25,
      "outputs": [
        {
          "output_type": "stream",
          "name": "stdout",
          "text": [
            "(10, 10)\n",
            "rows=2, columns=4\n"
          ]
        }
      ]
    },
    {
      "cell_type": "code",
      "source": [
        "# create a 5 dimension array\n",
        "arr=np.array([1, 2, 3, 4], ndmin=5)\n",
        "print(arr.shape)\n",
        "print(arr)"
      ],
      "metadata": {
        "colab": {
          "base_uri": "https://localhost:8080/"
        },
        "id": "REOJK1YwcQVP",
        "outputId": "aa5b1b14-fbf5-4986-e98b-87ad9d52b182"
      },
      "execution_count": 28,
      "outputs": [
        {
          "output_type": "stream",
          "name": "stdout",
          "text": [
            "(1, 1, 1, 1, 4)\n",
            "[[[[[1 2 3 4]]]]]\n"
          ]
        }
      ]
    },
    {
      "cell_type": "markdown",
      "source": [
        "# Reshaping"
      ],
      "metadata": {
        "id": "iZes7wuOcvn0"
      }
    },
    {
      "cell_type": "code",
      "source": [
        "# Reshape the arr1 10,10 to 3,2\n",
        "newarr=arr1.reshape(20,5)\n",
        "print(newarr)"
      ],
      "metadata": {
        "colab": {
          "base_uri": "https://localhost:8080/"
        },
        "id": "qwCtf5H8cxub",
        "outputId": "40cd803c-ca90-4450-c0ad-bf92d33f0ce5"
      },
      "execution_count": 30,
      "outputs": [
        {
          "output_type": "stream",
          "name": "stdout",
          "text": [
            "[[10 21 22 23 24]\n",
            " [25 26 27 28 29]\n",
            " [11  0  0  0  0]\n",
            " [ 0  0  0  0  0]\n",
            " [12  0  1  1  1]\n",
            " [ 1  1  1  0  0]\n",
            " [13  0  1  0  0]\n",
            " [ 0  0  1  0  0]\n",
            " [14  0  1  0  0]\n",
            " [ 0  0  1  0  0]\n",
            " [15  0  1  0  0]\n",
            " [ 0  0  1  0  0]\n",
            " [16  0  1  0  0]\n",
            " [ 0  0  1  0  0]\n",
            " [17  0  1  1  1]\n",
            " [ 1  1  1  0  0]\n",
            " [18  0  0  0  0]\n",
            " [ 0  0  0  0  0]\n",
            " [19  0  0  0  0]\n",
            " [ 0  0  0  0  0]]\n"
          ]
        }
      ]
    },
    {
      "cell_type": "code",
      "source": [
        "# create a 2D numpy array\n",
        "arr = np.array([[1, 2, 3], [4, 5, 6]])\n",
        "# reshape the array to have 3 rows and 2 columns\n",
        "new_arr = arr.reshape(3, 2)\n",
        "print(new_arr)"
      ],
      "metadata": {
        "colab": {
          "base_uri": "https://localhost:8080/"
        },
        "id": "30L3yphJdjNn",
        "outputId": "3d240340-5818-4fa9-af6b-793f62046e7b"
      },
      "execution_count": 31,
      "outputs": [
        {
          "output_type": "stream",
          "name": "stdout",
          "text": [
            "[[1 2]\n",
            " [3 4]\n",
            " [5 6]]\n"
          ]
        }
      ]
    },
    {
      "cell_type": "markdown",
      "source": [
        "# Iterating"
      ],
      "metadata": {
        "id": "BKdDrkZtd40U"
      }
    },
    {
      "cell_type": "code",
      "source": [
        "for item in arr1:\n",
        "  print(item)"
      ],
      "metadata": {
        "colab": {
          "base_uri": "https://localhost:8080/"
        },
        "id": "kSPYOkxgd6Ws",
        "outputId": "7d521d94-689b-478a-80a0-3b2f8976536a"
      },
      "execution_count": 32,
      "outputs": [
        {
          "output_type": "stream",
          "name": "stdout",
          "text": [
            "[10 21 22 23 24 25 26 27 28 29]\n",
            "[11  0  0  0  0  0  0  0  0  0]\n",
            "[12  0  1  1  1  1  1  1  0  0]\n",
            "[13  0  1  0  0  0  0  1  0  0]\n",
            "[14  0  1  0  0  0  0  1  0  0]\n",
            "[15  0  1  0  0  0  0  1  0  0]\n",
            "[16  0  1  0  0  0  0  1  0  0]\n",
            "[17  0  1  1  1  1  1  1  0  0]\n",
            "[18  0  0  0  0  0  0  0  0  0]\n",
            "[19  0  0  0  0  0  0  0  0  0]\n"
          ]
        }
      ]
    },
    {
      "cell_type": "markdown",
      "source": [
        "# Sorting"
      ],
      "metadata": {
        "id": "HyYw5YVHeByy"
      }
    },
    {
      "cell_type": "code",
      "source": [
        "arr = np.array([3, 2, 0, 1])\n",
        "\n",
        "print(np.sort(arr))"
      ],
      "metadata": {
        "colab": {
          "base_uri": "https://localhost:8080/"
        },
        "id": "k4DpNgU8eEVx",
        "outputId": "05e87151-e14f-4022-8ebf-fab055332de7"
      },
      "execution_count": 33,
      "outputs": [
        {
          "output_type": "stream",
          "name": "stdout",
          "text": [
            "[0 1 2 3]\n"
          ]
        }
      ]
    },
    {
      "cell_type": "code",
      "source": [
        "# 2D array\n",
        "arr = np.array([[3, 2, 4], [5, 0, 1]])\n",
        "print(np.sort(arr))"
      ],
      "metadata": {
        "colab": {
          "base_uri": "https://localhost:8080/"
        },
        "id": "_3dU7c4WeKBb",
        "outputId": "7e03071f-a4b5-497f-f213-1cac759207f1"
      },
      "execution_count": 34,
      "outputs": [
        {
          "output_type": "stream",
          "name": "stdout",
          "text": [
            "[[2 3 4]\n",
            " [0 1 5]]\n"
          ]
        }
      ]
    },
    {
      "cell_type": "markdown",
      "source": [
        "# Searching\n",
        "\n",
        "return the indexes of items being searched"
      ],
      "metadata": {
        "id": "s6jvMdqfewBK"
      }
    },
    {
      "cell_type": "code",
      "source": [
        "arr=np.array([[0,0,1,1,1,0,0,0,1],[1,1,0,0,0,0,0,0,1]])\n",
        "ones = np.where(arr == 1 )\n",
        "print (ones)"
      ],
      "metadata": {
        "colab": {
          "base_uri": "https://localhost:8080/"
        },
        "id": "kVVXiBAle3e8",
        "outputId": "6cbbfc20-af5a-470b-ede4-4e637059d9e4"
      },
      "execution_count": 55,
      "outputs": [
        {
          "output_type": "stream",
          "name": "stdout",
          "text": [
            "(array([0, 0, 0, 0, 1, 1, 1]), array([2, 3, 4, 8, 0, 1, 8]))\n"
          ]
        }
      ]
    },
    {
      "cell_type": "code",
      "source": [
        "ones=np.where(arr1==1)\n",
        "print(ones)"
      ],
      "metadata": {
        "colab": {
          "base_uri": "https://localhost:8080/"
        },
        "id": "t1OUDcqqgWmM",
        "outputId": "e81f5dc3-ff56-45a6-d447-d627f9768747"
      },
      "execution_count": 57,
      "outputs": [
        {
          "output_type": "stream",
          "name": "stdout",
          "text": [
            "(array([2, 2, 2, 2, 2, 2, 3, 3, 4, 4, 5, 5, 6, 6, 7, 7, 7, 7, 7, 7]), array([2, 3, 4, 5, 6, 7, 2, 7, 2, 7, 2, 7, 2, 7, 2, 3, 4, 5, 6, 7]))\n"
          ]
        }
      ]
    },
    {
      "cell_type": "code",
      "source": [
        "# this could be a signature of a square\n",
        "min=np.min(ones[0])\n",
        "min_x1=np.count_nonzero(ones[0]==min)\n",
        "max=np.max(ones[0])\n",
        "max_x1=np.count_nonzero(ones[0]==max)\n",
        "\n",
        "print (min_x1==max_x1)\n",
        "\n",
        "min=np.min(ones[1])\n",
        "min_y1=np.count_nonzero(ones[1]==min)\n",
        "max=np.max(ones[1])\n",
        "max_y1=np.count_nonzero(ones[1]==max)\n",
        "print(f'min_x1 = {min_x1}, max_x1={max_x1},min_y1 = {min_y1}, max_y1={max_y1} ')\n"
      ],
      "metadata": {
        "colab": {
          "base_uri": "https://localhost:8080/"
        },
        "id": "-Vm2fr0Yg8zO",
        "outputId": "7448e1b6-cc3f-4995-edf4-835790b07077"
      },
      "execution_count": 64,
      "outputs": [
        {
          "output_type": "stream",
          "name": "stdout",
          "text": [
            "True\n",
            "min_x1 = 6, max_x1=6,min_y1 = 6, max_y1=6 \n"
          ]
        }
      ]
    },
    {
      "cell_type": "markdown",
      "source": [
        "# NumPy Mathemathics"
      ],
      "metadata": {
        "id": "QeZOBjIM0rq4"
      }
    },
    {
      "cell_type": "code",
      "source": [
        "# Additions\n",
        "x=np.array([5])\n",
        "y=np.array([10])\n",
        "print(f'{x} plus {y} = {np.add(x,y)}')\n",
        "\n",
        "# Adding two arrays together\n",
        "x=np.array([5,1])\n",
        "y=np.array([10,3])\n",
        "print(f'{x} plus {y} = {np.add(x,y)}')\n",
        "\n",
        "# Array + scalar will add to each array items\n",
        "print(f'{x} plus 7 = {x + 7}')"
      ],
      "metadata": {
        "colab": {
          "base_uri": "https://localhost:8080/"
        },
        "id": "k3QDAyXB0voN",
        "outputId": "0a232b0c-758c-45a6-ef67-28b24eb5da47"
      },
      "execution_count": 10,
      "outputs": [
        {
          "output_type": "stream",
          "name": "stdout",
          "text": [
            "[5] plus [10] = [15]\n",
            "[5 1] plus [10  3] = [15  4]\n",
            "[5 1] plus 7 = [12  8]\n"
          ]
        }
      ]
    },
    {
      "cell_type": "markdown",
      "source": [
        "# Multiplications\n",
        "\n",
        "\n",
        "https://www.mathsisfun.com/algebra/matrix-multiplying.html\n",
        "---\n",
        "\n"
      ],
      "metadata": {
        "id": "QTbbOrHe2QKu"
      }
    },
    {
      "cell_type": "code",
      "source": [
        "# Multiplications\n",
        "import torch\n",
        "\n",
        "x=np.array([5])\n",
        "y=np.array([10])\n",
        "print(f'{x} time {y} = {np.multiply(x,y)}')\n",
        "\n",
        "x=np.array([5,1])\n",
        "y=np.array([10,3])\n",
        "print(f'{x} times {y} = {np.multiply(x,y)}')\n",
        "\n",
        "x=np.array([1,2,3])\n",
        "y=np.array([5,6,7])\n",
        "print(f'\\n{x} times {y} = {np.multiply(x,y)}')\n",
        "\n",
        "\n",
        "x=np.array([[1,2],[4,5],[6,7]])\n",
        "print(x.shape)\n",
        "y=np.array([[5,6],[2,2],[3,3]])\n",
        "print(y.shape)\n",
        "print(f'\\n{x} times {y} = {np.multiply(x,y)}')\n",
        "\n"
      ],
      "metadata": {
        "id": "EWBcXd-p2PbZ"
      },
      "execution_count": null,
      "outputs": []
    }
  ]
}